{
  "nbformat": 4,
  "nbformat_minor": 0,
  "metadata": {
    "colab": {
      "provenance": [],
      "authorship_tag": "ABX9TyMOAb+/ELfZQi5zp74VouS3",
      "include_colab_link": true
    },
    "kernelspec": {
      "name": "python3",
      "display_name": "Python 3"
    },
    "language_info": {
      "name": "python"
    }
  },
  "cells": [
    {
      "cell_type": "markdown",
      "metadata": {
        "id": "view-in-github",
        "colab_type": "text"
      },
      "source": [
        "<a href=\"https://colab.research.google.com/github/ahmedtijaninet/audio_to_text/blob/main/Audio_to_Text.ipynb\" target=\"_parent\"><img src=\"https://colab.research.google.com/assets/colab-badge.svg\" alt=\"Open In Colab\"/></a>"
      ]
    },
    {
      "cell_type": "code",
      "execution_count": null,
      "metadata": {
        "id": "9_E0uEN508ga"
      },
      "outputs": [],
      "source": [
        "!pip install SpeechRecognition\n",
        "!sudo pip install SpeechRecognition\n",
        "!sudo apt-get install ffmpeg"
      ]
    },
    {
      "cell_type": "code",
      "source": [
        "!ffmpeg -i audio.mp4 audio.wav"
      ],
      "metadata": {
        "id": "MZibdTbF108g"
      },
      "execution_count": null,
      "outputs": []
    },
    {
      "cell_type": "code",
      "source": [
        "import speech_recognition as sr\n",
        "\n",
        "# initialize recognizer class (for recognizing the speech)\n",
        "r = sr.Recognizer()\n",
        "\n",
        "# Reading Audio file as source\n",
        "# listening the speech and store in audio_text\n",
        "filename = \"audio.wav\"\n",
        "with sr.AudioFile(filename) as source:\n",
        "    audio_text = r.record(source)\n",
        "    \n",
        "# recoginize_() method will throw a request error if the API is unreachable, hence using exception handling\n",
        "try:\n",
        "    # using google speech recognition\n",
        "    result = r.recognize_google(audio_text, language = \"fr-FR\")\n",
        "    print(\"Text: \" + result)\n",
        "    \n",
        "    # Save the result to a text file\n",
        "    with open(\"result.txt\", \"w\") as f:\n",
        "        f.write(result)\n",
        "    \n",
        "except:\n",
        "     print(\"Sorry, I did not get that\")\n"
      ],
      "metadata": {
        "id": "SkZYFvOX5NKc"
      },
      "execution_count": null,
      "outputs": []
    }
  ]
}